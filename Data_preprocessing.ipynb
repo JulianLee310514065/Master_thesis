{
 "cells": [
  {
   "attachments": {},
   "cell_type": "markdown",
   "metadata": {},
   "source": [
    "# 分析只用含氧血"
   ]
  },
  {
   "cell_type": "code",
   "execution_count": null,
   "metadata": {},
   "outputs": [],
   "source": [
    "# import 必要東西\n",
    "import pandas as pd\n",
    "import seaborn as sns\n",
    "import numpy as np\n",
    "import matplotlib.pyplot as plt\n",
    "import re\n",
    "import os\n",
    "import glob"
   ]
  },
  {
   "cell_type": "markdown",
   "metadata": {},
   "source": [
    "### 1. 定義minmax函數，以做正規化"
   ]
  },
  {
   "cell_type": "code",
   "execution_count": null,
   "metadata": {},
   "outputs": [],
   "source": [
    "def minmax(df_temp):\n",
    "    dfs =  (df_temp - df_temp.min())/(df_temp.max() - df_temp.min())\n",
    "    return dfs"
   ]
  },
  {
   "cell_type": "markdown",
   "metadata": {},
   "source": [
    "### 2. 定義資料處理函數以及合併函數 - **No Minmax**\n",
    "   *  Region 1 => 25-28, 36-38, 46-49\n",
    "   *  Region 2 => 22-24, 32-35, 43-45, 29-31, 39-42, 50-52"
   ]
  },
  {
   "cell_type": "code",
   "execution_count": null,
   "metadata": {},
   "outputs": [],
   "source": [
    "def get_data(path):\n",
    "\n",
    "    df = pd.read_csv(path, skiprows= 40)\n",
    "\n",
    "    df_drop = df.drop(columns= [\"BodyMovement\", \"RemovalMark\", 'PreScan', 'Mark', 'Probe1(Oxy)'])\n",
    "    df_drop = df_drop.set_index(\"Time\")\n",
    "    index_list = [int(x.split(':')[1])*60 + float(x.split(':')[2]) if not '-23' in x else -999 for x in df_drop.index]\n",
    "    df_drop.index = index_list\n",
    "    try:\n",
    "        df_drop = df_drop.drop([-999],axis=0)\n",
    "    except:\n",
    "        pass\n",
    "\n",
    "    # 10筆1秒\n",
    "    df_new = df_drop\n",
    "\n",
    "\n",
    "    region_1 = df_new[['CH25', 'CH26', 'CH27', 'CH28', 'CH36', 'CH37', 'CH38', 'CH46' , 'CH47', 'CH48', 'CH49']].mean(axis=1)\n",
    "    region_2 = df_new[['CH22', 'CH23', 'CH24', 'CH32', 'CH33', 'CH34', 'CH35', 'CH43', 'CH44', 'CH45', 'CH29', 'CH30', 'CH31', 'CH39', 'CH40', 'CH41', 'CH42', 'CH50', 'CH51', 'CH52']].mean(axis=1)\n",
    "    dff = pd.concat([region_1, region_2], axis=1)\n",
    "\n",
    "    return dff"
   ]
  },
  {
   "cell_type": "markdown",
   "metadata": {},
   "source": [
    "### 3. 定義資料處理函數以及合併函數 - **Minmax**"
   ]
  },
  {
   "cell_type": "code",
   "execution_count": null,
   "metadata": {},
   "outputs": [],
   "source": [
    "def get_data_minmax(path):\n",
    "\n",
    "    df = pd.read_csv(path, skiprows= 40)\n",
    "\n",
    "    df_drop = df.drop(columns= [\"BodyMovement\", \"RemovalMark\", 'PreScan', 'Mark', 'Probe1(Oxy)'])\n",
    "    df_drop = df_drop.set_index(\"Time\")\n",
    "    index_list = [int(x.split(':')[1])*60 + float(x.split(':')[2]) if not '-23' in x else -999 for x in df_drop.index]\n",
    "    df_drop.index = index_list\n",
    "    try:\n",
    "        df_drop = df_drop.drop([-999],axis=0)\n",
    "    except:\n",
    "        pass\n",
    "\n",
    "    # 10筆1秒\n",
    "    df_new = df_drop\n",
    "\n",
    "\n",
    "    region_1 = df_new[['CH25', 'CH26', 'CH27', 'CH28', 'CH36', 'CH37', 'CH38', 'CH46' , 'CH47', 'CH48', 'CH49']].mean(axis=1)\n",
    "    region_2 = df_new[['CH22', 'CH23', 'CH24', 'CH32', 'CH33', 'CH34', 'CH35', 'CH43', 'CH44', 'CH45', 'CH29', 'CH30', 'CH31', 'CH39', 'CH40', 'CH41', 'CH42', 'CH50', 'CH51', 'CH52']].mean(axis=1)\n",
    "    dff = pd.concat([region_1, region_2], axis=1)\n",
    "\n",
    "    return minmax(dff)\n"
   ]
  },
  {
   "cell_type": "markdown",
   "metadata": {},
   "source": [
    "### 4. 叫出函數(兩種族群 * 兩種處理方式 = 4次)"
   ]
  },
  {
   "cell_type": "code",
   "execution_count": null,
   "metadata": {},
   "outputs": [],
   "source": [
    "health_list = glob.glob(r\".\\正常人_LFT_data_N_33\\*_Oxy.csv\")\n",
    "\n",
    "for csv_path in health_list:\n",
    "\n",
    "    picture_filename = csv_path.split(\"\\\\\")[-1].split(\"_\")[0]\n",
    "    df_temp = get_data_minmax(csv_path)\n",
    "    # print(len(df_temp))\n",
    "\n",
    "    if len(df_temp) < 1250:\n",
    "        print(picture_filename)\n",
    "        continue\n",
    "\n",
    "    np.save(f'nominmax_health/{picture_filename}_HBA_Probe1_Oxy_region_nominmax', df_temp)\n"
   ]
  },
  {
   "cell_type": "code",
   "execution_count": null,
   "metadata": {},
   "outputs": [],
   "source": [
    "health_list = glob.glob(r\".\\正常人_LFT_data_N_33\\*_Oxy.csv\")\n",
    "\n",
    "for csv_path in health_list:\n",
    "\n",
    "    picture_filename = csv_path.split(\"\\\\\")[-1].split(\"_\")[0]\n",
    "    df_temp = get_data(csv_path)\n",
    "    # print(len(df_temp))\n",
    "\n",
    "    if len(df_temp) < 1250:\n",
    "        print(picture_filename)\n",
    "        continue\n",
    "\n",
    "    np.save(f'region_health/{picture_filename}_HBA_Probe1_Oxy_region_nominmax', df_temp)"
   ]
  },
  {
   "cell_type": "code",
   "execution_count": null,
   "metadata": {},
   "outputs": [],
   "source": [
    "un_health_list = glob.glob(r\".\\病人組_LFT_data_N_32\\*_Oxy.csv\")\n",
    "\n",
    "for csv_path in un_health_list:\n",
    "\n",
    "    picture_filename = csv_path.split(\"\\\\\")[-1].split(\"_\")[0]\n",
    "    df_temp = get_data(csv_path)\n",
    "    # print(len(df_temp))\n",
    "\n",
    "    np.save(f'region_unhealth/{picture_filename}_HBA_Probe1_Oxy_region_nominmax', df_temp)"
   ]
  },
  {
   "cell_type": "code",
   "execution_count": null,
   "metadata": {},
   "outputs": [],
   "source": [
    "un_health_list = glob.glob(r\".\\病人組_LFT_data_N_32\\*_Oxy.csv\")\n",
    "\n",
    "for csv_path in un_health_list:\n",
    "\n",
    "    picture_filename = csv_path.split(\"\\\\\")[-1].split(\"_\")[0]\n",
    "    df_temp = get_data_minmax(csv_path)\n",
    "    # print(len(df_temp))\n",
    "\n",
    "    np.save(f'nominmax_unhealth/{picture_filename}_HBA_Probe1_Oxy_region_nominmax', df_temp)"
   ]
  }
 ],
 "metadata": {
  "kernelspec": {
   "display_name": "base",
   "language": "python",
   "name": "python3"
  },
  "language_info": {
   "codemirror_mode": {
    "name": "ipython",
    "version": 3
   },
   "file_extension": ".py",
   "mimetype": "text/x-python",
   "name": "python",
   "nbconvert_exporter": "python",
   "pygments_lexer": "ipython3",
   "version": "3.9.12"
  },
  "orig_nbformat": 4,
  "vscode": {
   "interpreter": {
    "hash": "ad2bdc8ecc057115af97d19610ffacc2b4e99fae6737bb82f5d7fb13d2f2c186"
   }
  }
 },
 "nbformat": 4,
 "nbformat_minor": 2
}
